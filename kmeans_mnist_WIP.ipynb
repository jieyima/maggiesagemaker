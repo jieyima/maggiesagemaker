{
 "cells": [
  {
   "cell_type": "markdown",
   "metadata": {},
   "source": [
    "# End-to-End Example\n",
    "\n",
    "1. [Introduction](#Introduction)\n",
    "2. [Prerequisites and Preprocessing](#Prequisites-and-Preprocessing)\n",
    "  1. [Permissions and environment variables](#Permissions-and-environment-variables)\n",
    "  2. [Data ingestion](#Data-ingestion)\n",
    "  3. [Data inspection](#Data-inspection)\n",
    "  4. [Data conversion](#Data-conversion)\n",
    "3. [Training the K-Means model](#Training-the-K-Means-model)\n",
    "4. [Set up hosting for the model](#Set-up-hosting-for-the-model)\n",
    "5. [Validate the model for use](#Validate-the-model-for-use)\n"
   ]
  },
  {
   "cell_type": "markdown",
   "metadata": {},
   "source": [
    "## Introduction\n",
    "\n",
    "Welcome to our first end-to-end example! Today, we're working through a classification problem, specifically of images of handwritten digits, from zero to nine. Let's imagine that this dataset doesn't have labels, so we don't know for sure what the true answer is. In later examples, we'll show the value of \"ground truth\", as it's commonly known.\n",
    "\n",
    "Today, however, we need to get these digits classified without ground truth. A common method for doing this is a set of methods known as \"clustering\", and in particular, the method that we'll look at today is called k-means clustering. In this method, each point belongs to the cluster with the closest mean, and the data is partitioned into a number of clusters that is specified when framing the problem. In this case, since we know there are 10 clusters, and we have no labeled data (in the way we framed the problem), this is a good fit.\n",
    "\n",
    "To get started, we need to set up the environment with a few prerequisite steps, for permissions, configurations, and so on."
   ]
  },
  {
   "cell_type": "markdown",
   "metadata": {},
   "source": [
    "## Prequisites and Preprocessing\n",
    "\n",
    "### Permissions and environment variables\n",
    "\n",
    "Here we set up the linkage and authentication to AWS services. There are two parts to this:\n",
    "\n",
    "1. The role(s) used to give learning and hosting access to your data. Here we extract the role you created earlier for accessing your notebook.  See the documentation if you want to specify  a different role\n",
    "1. The S3 bucket name and locations that you want to use for training and model data."
   ]
  },
  {
   "cell_type": "code",
   "execution_count": 1,
   "metadata": {
    "collapsed": true,
    "isConfigCell": true
   },
   "outputs": [],
   "source": [
    "from sagemaker import get_execution_role\n",
    "\n",
    "role = get_execution_role()\n",
    "bucket='maggiesagemaker-ucdml'"
   ]
  },
  {
   "cell_type": "markdown",
   "metadata": {},
   "source": [
    "### Data ingestion\n",
    "\n",
    "Next, we read the dataset from the existing repository into memory, for preprocessing prior to training.  In this case we'll use the MNIST dataset, which contains 70K 28 x 28 pixel images of handwritten digits.  For more details, please see [here](http://yann.lecun.com/exdb/mnist/).\n",
    "\n",
    "This processing could be done *in situ* by Amazon Athena, Apache Spark in Amazon EMR, Amazon Redshift, etc., assuming the dataset is present in the appropriate location. Then, the next step would be to transfer the data to S3 for use in training. For small datasets, such as this one, reading into memory isn't onerous, though it would be for larger datasets."
   ]
  },
  {
   "cell_type": "code",
   "execution_count": 2,
   "metadata": {},
   "outputs": [
    {
     "name": "stdout",
     "output_type": "stream",
     "text": [
      "CPU times: user 880 ms, sys: 300 ms, total: 1.18 s\n",
      "Wall time: 3.56 s\n"
     ]
    }
   ],
   "source": [
    "%%time\n",
    "import pickle, gzip, numpy, urllib.request, json\n",
    "\n",
    "# Load the dataset\n",
    "urllib.request.urlretrieve(\"http://deeplearning.net/data/mnist/mnist.pkl.gz\", \"mnist.pkl.gz\")\n",
    "with gzip.open('mnist.pkl.gz', 'rb') as f:\n",
    "    train_set, valid_set, test_set = pickle.load(f, encoding='latin1')"
   ]
  },
  {
   "cell_type": "markdown",
   "metadata": {},
   "source": [
    "### Data inspection\n",
    "\n",
    "Once the dataset is imported, it's typical as part of the machine learning process to inspect the data, understand the distributions, and determine what type(s) of preprocessing might be needed. You can perform those tasks right here in the notebook. As an example, let's go ahead and look at one of the digits that is part of the dataset."
   ]
  },
  {
   "cell_type": "code",
   "execution_count": 3,
   "metadata": {},
   "outputs": [
    {
     "data": {
      "image/png": "[encoded data removed]",
      "text/plain": [
       "<matplotlib.figure.Figure at 0x7f675bad7cf8>"
      ]
     },
     "metadata": {},
     "output_type": "display_data"
    }
   ],
   "source": [
    "%matplotlib inline\n",
    "import matplotlib.pyplot as plt\n",
    "plt.rcParams[\"figure.figsize\"] = (2,10)\n",
    "\n",
    "\n",
    "def show_digit(img, caption='', subplot=None):\n",
    "    if subplot==None:\n",
    "        _,(subplot)=plt.subplots(1,1)\n",
    "    imgr=img.reshape((28,28))\n",
    "    subplot.axis('off')\n",
    "    subplot.imshow(imgr, cmap='gray')\n",
    "    plt.title(caption)\n",
    "\n",
    "show_digit(train_set[0][30], 'This is a {}'.format(train_set[1][30]))"
   ]
  },
  {
   "cell_type": "markdown",
   "metadata": {},
   "source": [
    "## Training the K-Means model\n",
    "\n",
    "Once we have the data preprocessed and available in the correct format for training, the next step is to actually train the model using the data. Since this data is relatively small, it isn't meant to show off the performance of the k-means training algorithm.  But Amazon SageMaker's k-means has been tested on, and scales well with, multi-terabyte datasets.\n",
    "\n",
    "After setting training parameters, we kick off training, and poll for status until training is completed, which in this example, takes between 7 and 11 minutes."
   ]
  },
  {
   "cell_type": "code",
   "execution_count": 4,
   "metadata": {},
   "outputs": [
    {
     "name": "stdout",
     "output_type": "stream",
     "text": [
      "training data will be uploaded to: s3://maggiesagemaker-ucdml/kmeans_highlevel_example/data\n",
      "training artifacts will be uploaded to: s3://maggiesagemaker-ucdml/kmeans_example/output\n"
     ]
    },
    {
     "name": "stderr",
     "output_type": "stream",
     "text": [
      "INFO:sagemaker:Created S3 bucket: sagemaker-us-east-1-783157505252\n"
     ]
    }
   ],
   "source": [
    "from sagemaker import KMeans\n",
    "\n",
    "data_location = 's3://maggiesagemaker-ucdml/kmeans_highlevel_example/data'.format(bucket)\n",
    "output_location = 's3://maggiesagemaker-ucdml/kmeans_example/output'.format(bucket)\n",
    "\n",
    "print('training data will be uploaded to: {}'.format(data_location))\n",
    "print('training artifacts will be uploaded to: {}'.format(output_location))\n",
    "\n",
    "kmeans = KMeans(role=role,\n",
    "                train_instance_count=2,\n",
    "                train_instance_type='ml.c4.8xlarge',\n",
    "                output_path=output_location,\n",
    "                k=10,\n",
    "                data_location=data_location)"
   ]
  },
  {
   "cell_type": "code",
   "execution_count": 5,
   "metadata": {},
   "outputs": [
    {
     "name": "stderr",
     "output_type": "stream",
     "text": [
      "INFO:sagemaker:Creating training-job with name: kmeans-2018-03-06-07-30-00-575\n"
     ]
    },
    {
     "name": "stdout",
     "output_type": "stream",
     "text": [
      ".....................................................................\n",
      "\u001b[31mDocker entrypoint called with argument(s): train\u001b[0m\n",
      "\u001b[31m[03/06/2018 07:35:41 INFO 140018794239808] Reading default configuration from /opt/amazon/lib/python2.7/site-packages/algorithm/default-input.json: {u'_num_gpus': u'auto', u'local_lloyd_num_trials': u'auto', u'_log_level': u'info', u'_kvstore': u'auto', u'local_lloyd_init_method': u'kmeans++', u'force_dense': u'true', u'epochs': u'1', u'init_method': u'random', u'local_lloyd_tol': u'0.0001', u'local_lloyd_max_iter': u'300', u'_disable_wait_to_read': u'false', u'extra_center_factor': u'auto', u'eval_metrics': u'[\"msd\"]', u'_num_kv_servers': u'1', u'mini_batch_size': u'5000', u'half_life_time_size': u'0', u'_num_slices': u'1'}\u001b[0m\n",
      "\u001b[31m[03/06/2018 07:35:41 INFO 140018794239808] Reading provided configuration from /opt/ml/input/config/hyperparameters.json: {u'feature_dim': u'784', u'mini_batch_size': u'500', u'k': u'10', u'force_dense': u'True'}\u001b[0m\n",
      "\u001b[31m[03/06/2018 07:35:41 INFO 140018794239808] Final configuration: {u'k': u'10', u'_num_gpus': u'auto', u'local_lloyd_num_trials': u'auto', u'_log_level': u'info', u'_kvstore': u'auto', u'local_lloyd_init_method': u'kmeans++', u'force_dense': u'True', u'epochs': u'1', u'init_method': u'random', u'feature_dim': u'784', u'local_lloyd_tol': u'0.0001', u'local_lloyd_max_iter': u'300', u'_disable_wait_to_read': u'false', u'extra_center_factor': u'auto', u'eval_metrics': u'[\"msd\"]', u'_num_kv_servers': u'1', u'mini_batch_size': u'500', u'half_life_time_size': u'0', u'_num_slices': u'1'}\u001b[0m\n",
      "\u001b[31m[03/06/2018 07:35:41 WARNING 140018794239808] Loggers have already been setup.\u001b[0m\n",
      "\u001b[31m[03/06/2018 07:35:42 INFO 140018794239808] Environment: {'PROTOCOL_BUFFERS_PYTHON_IMPLEMENTATION_VERSION': '2', 'DMLC_PS_ROOT_PORT': '9000', 'DMLC_NUM_WORKER': '2', 'SAGEMAKER_HTTP_PORT': '8080', 'HOME': '/root', 'PYTHONUNBUFFERED': 'TRUE', 'CANONICAL_ENVROOT': '/opt/amazon', 'LD_LIBRARY_PATH': '/usr/local/nvidia/lib64::/opt/amazon/lib', 'MXNET_KVSTORE_BIGARRAY_BOUND': '400000000', 'LANG': 'en_US.utf8', 'DMLC_INTERFACE': 'ethwe', 'SHLVL': '1', 'DMLC_PS_ROOT_URI': '10.32.0.4', 'AWS_REGION': 'us-east-1', 'NVIDIA_VISIBLE_DEVICES': 'all', 'PATH': '/opt/amazon/bin:/usr/local/nvidia/bin:/usr/local/sbin:/usr/local/bin:/usr/sbin:/usr/bin:/sbin:/bin:/opt/amazon/bin:/opt/amazon/bin', 'PROTOCOL_BUFFERS_PYTHON_IMPLEMENTATION': 'cpp', 'ENVROOT': '/opt/amazon', 'SAGEMAKER_DATA_PATH': '/opt/ml', 'NVIDIA_DRIVER_CAPABILITIES': 'compute,utility', 'NVIDIA_REQUIRE_CUDA': 'cuda>=9.0', 'OMP_NUM_THREADS': '18', 'HOSTNAME': 'aws', 'AWS_CONTAINER_CREDENTIALS_RELATIVE_URI': '/v2/credentials/9d1b4272-a4c5-4922-9a6c-7d006b82d72e', 'DMLC_ROLE': 'worker', 'PWD': '/', 'DMLC_NUM_SERVER': '1'}\u001b[0m\n",
      "\u001b[31m[03/06/2018 07:35:42 INFO 140018794239808] Using default worker.\u001b[0m\n",
      "\u001b[31m[03/06/2018 07:35:42 INFO 140018794239808] Loaded iterator creator application/x-recordio-protobuf for content type ('application/x-recordio-protobuf', '1.0')\u001b[0m\n",
      "\u001b[31m[03/06/2018 07:35:42 INFO 140018794239808] Create Store: dist_async\u001b[0m\n",
      "\u001b[31m[03/06/2018 07:35:43 INFO 140018794239808] nvidia-smi took: 0.025181055069 secs to identify 0 gpus\u001b[0m\n",
      "\u001b[31m[03/06/2018 07:35:43 INFO 140018794239808] Number of GPUs being used: 0\u001b[0m\n",
      "\u001b[31m[03/06/2018 07:35:43 INFO 140018794239808] Setting up with params: {u'k': u'10', u'_num_gpus': u'auto', u'local_lloyd_num_trials': u'auto', u'_log_level': u'info', u'_kvstore': u'auto', u'local_lloyd_init_method': u'kmeans++', u'force_dense': u'True', u'epochs': u'1', u'init_method': u'random', u'feature_dim': u'784', u'local_lloyd_tol': u'0.0001', u'local_lloyd_max_iter': u'300', u'_disable_wait_to_read': u'false', u'extra_center_factor': u'auto', u'eval_metrics': u'[\"msd\"]', u'_num_kv_servers': u'1', u'mini_batch_size': u'500', u'half_life_time_size': u'0', u'_num_slices': u'1'}\u001b[0m\n",
      "\u001b[31m/opt/amazon/lib/python2.7/site-packages/ai_algorithms_sdk/config/config_helper.py:170: DeprecationWarning: deprecated\n",
      "  warnings.warn(\"deprecated\", DeprecationWarning)\u001b[0m\n",
      "\u001b[31m/opt/amazon/lib/python2.7/site-packages/ai_algorithms_sdk/config/config_helper.py:120: DeprecationWarning: deprecated\n",
      "  warnings.warn(\"deprecated\", DeprecationWarning)\u001b[0m\n",
      "\u001b[31m[03/06/2018 07:35:43 INFO 140018794239808] Number of GPUs being used: 0\u001b[0m\n",
      "\u001b[31m[03/06/2018 07:35:43 INFO 140018794239808] number of center slices 1\u001b[0m\n",
      "\u001b[31m#metrics {\"Metrics\": {\"Max Batches Seen Between Resets\": {\"count\": 1, \"max\": 1, \"sum\": 1.0, \"min\": 1}, \"Number of Batches Since Last Reset\": {\"count\": 1, \"max\": 1, \"sum\": 1.0, \"min\": 1}, \"Number of Records Since Last Reset\": {\"count\": 1, \"max\": 500, \"sum\": 500.0, \"min\": 500}, \"Total Batches Seen\": {\"count\": 1, \"max\": 1, \"sum\": 1.0, \"min\": 1}, \"Total Records Seen\": {\"count\": 1, \"max\": 500, \"sum\": 500.0, \"min\": 500}, \"Max Records Seen Between Resets\": {\"count\": 1, \"max\": 500, \"sum\": 500.0, \"min\": 500}, \"Reset Count\": {\"count\": 1, \"max\": 0, \"sum\": 0.0, \"min\": 0}}, \"EndTime\": 1520321743.61644, \"Dimensions\": {\"Host\": \"algo-2\", \"Meta\": \"init_train_data_iter\", \"Operation\": \"training\", \"Algorithm\": \"AWS/KMeansWebscale\"}, \"StartTime\": 1520321743.616401}\n",
      "\u001b[0m\n",
      "\u001b[31m[03/06/2018 07:35:43 INFO 140018794239808] Iter 10: Short term msd 31.342772. Long term msd 32.770940\u001b[0m\n",
      "\u001b[31m[03/06/2018 07:35:43 INFO 140018794239808] Iter 20: Short term msd 29.104755. Long term msd 29.954606\u001b[0m\n",
      "\u001b[31mDocker entrypoint called with argument(s): train\u001b[0m\n",
      "\u001b[31m[03/06/2018 07:35:42 INFO 140207491557184] Reading default configuration from /opt/amazon/lib/python2.7/site-packages/algorithm/default-input.json: {u'_num_gpus': u'auto', u'local_lloyd_num_trials': u'auto', u'_log_level': u'info', u'_kvstore': u'auto', u'local_lloyd_init_method': u'kmeans++', u'force_dense': u'true', u'epochs': u'1', u'init_method': u'random', u'local_lloyd_tol': u'0.0001', u'local_lloyd_max_iter': u'300', u'_disable_wait_to_read': u'false', u'extra_center_factor': u'auto', u'eval_metrics': u'[\"msd\"]', u'_num_kv_servers': u'1', u'mini_batch_size': u'5000', u'half_life_time_size': u'0', u'_num_slices': u'1'}\u001b[0m\n",
      "\u001b[31m[03/06/2018 07:35:42 INFO 140207491557184] Reading provided configuration from /opt/ml/input/config/hyperparameters.json: {u'feature_dim': u'784', u'mini_batch_size': u'500', u'k': u'10', u'force_dense': u'True'}\u001b[0m\n",
      "\u001b[31m[03/06/2018 07:35:42 INFO 140207491557184] Final configuration: {u'k': u'10', u'_num_gpus': u'auto', u'local_lloyd_num_trials': u'auto', u'_log_level': u'info', u'_kvstore': u'auto', u'local_lloyd_init_method': u'kmeans++', u'force_dense': u'True', u'epochs': u'1', u'init_method': u'random', u'feature_dim': u'784', u'local_lloyd_tol': u'0.0001', u'local_lloyd_max_iter': u'300', u'_disable_wait_to_read': u'false', u'extra_center_factor': u'auto', u'eval_metrics': u'[\"msd\"]', u'_num_kv_servers': u'1', u'mini_batch_size': u'500', u'half_life_time_size': u'0', u'_num_slices': u'1'}\u001b[0m\n",
      "\u001b[31m[03/06/2018 07:35:42 WARNING 140207491557184] Loggers have already been setup.\u001b[0m\n",
      "\u001b[31m[03/06/2018 07:35:42 INFO 140207491557184] Launching parameter server for role scheduler\u001b[0m\n",
      "\u001b[31m[03/06/2018 07:35:42 INFO 140207491557184] {'PROTOCOL_BUFFERS_PYTHON_IMPLEMENTATION_VERSION': '2', 'PATH': '/opt/amazon/bin:/usr/local/nvidia/bin:/usr/local/sbin:/usr/local/bin:/usr/sbin:/usr/bin:/sbin:/bin:/opt/amazon/bin:/opt/amazon/bin', 'SAGEMAKER_HTTP_PORT': '8080', 'HOME': '/root', 'PYTHONUNBUFFERED': 'TRUE', 'CANONICAL_ENVROOT': '/opt/amazon', 'LD_LIBRARY_PATH': '/usr/local/nvidia/lib64::/opt/amazon/lib', 'MXNET_KVSTORE_BIGARRAY_BOUND': '400000000', 'LANG': 'en_US.utf8', 'DMLC_INTERFACE': 'ethwe', 'SHLVL': '1', 'AWS_REGION': 'us-east-1', 'NVIDIA_VISIBLE_DEVICES': 'all', 'PROTOCOL_BUFFERS_PYTHON_IMPLEMENTATION': 'cpp', 'ENVROOT': '/opt/amazon', 'SAGEMAKER_DATA_PATH': '/opt/ml', 'NVIDIA_DRIVER_CAPABILITIES': 'compute,utility', 'NVIDIA_REQUIRE_CUDA': 'cuda>=9.0', 'OMP_NUM_THREADS': '18', 'HOSTNAME': 'aws', 'AWS_CONTAINER_CREDENTIALS_RELATIVE_URI': '/v2/credentials/32e22a22-62bd-43d0-832f-ee409dae4b19', 'PWD': '/'}\u001b[0m\n",
      "\u001b[31m[03/06/2018 07:35:42 INFO 140207491557184] envs={'PROTOCOL_BUFFERS_PYTHON_IMPLEMENTATION_VERSION': '2', 'DMLC_NUM_WORKER': '2', 'DMLC_PS_ROOT_PORT': '9000', 'PATH': '/opt/amazon/bin:/usr/local/nvidia/bin:/usr/local/sbin:/usr/local/bin:/usr/sbin:/usr/bin:/sbin:/bin:/opt/amazon/bin:/opt/amazon/bin', 'SAGEMAKER_HTTP_PORT': '8080', 'HOME': '/root', 'PYTHONUNBUFFERED': 'TRUE', 'CANONICAL_ENVROOT': '/opt/amazon', 'LD_LIBRARY_PATH': '/usr/local/nvidia/lib64::/opt/amazon/lib', 'MXNET_KVSTORE_BIGARRAY_BOUND': '400000000', 'LANG': 'en_US.utf8', 'DMLC_INTERFACE': 'ethwe', 'SHLVL': '1', 'DMLC_PS_ROOT_URI': '10.32.0.4', 'AWS_REGION': 'us-east-1', 'NVIDIA_VISIBLE_DEVICES': 'all', 'PROTOCOL_BUFFERS_PYTHON_IMPLEMENTATION': 'cpp', 'ENVROOT': '/opt/amazon', 'SAGEMAKER_DATA_PATH': '/opt/ml', 'NVIDIA_DRIVER_CAPABILITIES': 'compute,utility', 'NVIDIA_REQUIRE_CUDA': 'cuda>=9.0', 'OMP_NUM_THREADS': '18', 'HOSTNAME': 'aws', 'AWS_CONTAINER_CREDENTIALS_RELATIVE_URI': '/v2/credentials/32e22a22-62bd-43d0-832f-ee409dae4b19', 'DMLC_ROLE': 'scheduler', 'PWD': '/', 'DMLC_NUM_SERVER': '1'}\u001b[0m\n",
      "\u001b[31m[03/06/2018 07:35:42 INFO 140207491557184] Launching parameter server for role server\u001b[0m\n",
      "\u001b[31m[03/06/2018 07:35:42 INFO 140207491557184] {'PROTOCOL_BUFFERS_PYTHON_IMPLEMENTATION_VERSION': '2', 'PATH': '/opt/amazon/bin:/usr/local/nvidia/bin:/usr/local/sbin:/usr/local/bin:/usr/sbin:/usr/bin:/sbin:/bin:/opt/amazon/bin:/opt/amazon/bin', 'SAGEMAKER_HTTP_PORT': '8080', 'HOME': '/root', 'PYTHONUNBUFFERED': 'TRUE', 'CANONICAL_ENVROOT': '/opt/amazon', 'LD_LIBRARY_PATH': '/usr/local/nvidia/lib64::/opt/amazon/lib', 'MXNET_KVSTORE_BIGARRAY_BOUND': '400000000', 'LANG': 'en_US.utf8', 'DMLC_INTERFACE': 'ethwe', 'SHLVL': '1', 'AWS_REGION': 'us-east-1', 'NVIDIA_VISIBLE_DEVICES': 'all', 'PROTOCOL_BUFFERS_PYTHON_IMPLEMENTATION': 'cpp', 'ENVROOT': '/opt/amazon', 'SAGEMAKER_DATA_PATH': '/opt/ml', 'NVIDIA_DRIVER_CAPABILITIES': 'compute,utility', 'NVIDIA_REQUIRE_CUDA': 'cuda>=9.0', 'OMP_NUM_THREADS': '18', 'HOSTNAME': 'aws', 'AWS_CONTAINER_CREDENTIALS_RELATIVE_URI': '/v2/credentials/32e22a22-62bd-43d0-832f-ee409dae4b19', 'PWD': '/'}\u001b[0m\n",
      "\u001b[31m[03/06/2018 07:35:42 INFO 140207491557184] envs={'PROTOCOL_BUFFERS_PYTHON_IMPLEMENTATION_VERSION': '2', 'DMLC_NUM_WORKER': '2', 'DMLC_PS_ROOT_PORT': '9000', 'PATH': '/opt/amazon/bin:/usr/local/nvidia/bin:/usr/local/sbin:/usr/local/bin:/usr/sbin:/usr/bin:/sbin:/bin:/opt/amazon/bin:/opt/amazon/bin', 'SAGEMAKER_HTTP_PORT': '8080', 'HOME': '/root', 'PYTHONUNBUFFERED': 'TRUE', 'CANONICAL_ENVROOT': '/opt/amazon', 'LD_LIBRARY_PATH': '/usr/local/nvidia/lib64::/opt/amazon/lib', 'MXNET_KVSTORE_BIGARRAY_BOUND': '400000000', 'LANG': 'en_US.utf8', 'DMLC_INTERFACE': 'ethwe', 'SHLVL': '1', 'DMLC_PS_ROOT_URI': '10.32.0.4', 'AWS_REGION': 'us-east-1', 'NVIDIA_VISIBLE_DEVICES': 'all', 'PROTOCOL_BUFFERS_PYTHON_IMPLEMENTATION': 'cpp', 'ENVROOT': '/opt/amazon', 'SAGEMAKER_DATA_PATH': '/opt/ml', 'NVIDIA_DRIVER_CAPABILITIES': 'compute,utility', 'NVIDIA_REQUIRE_CUDA': 'cuda>=9.0', 'OMP_NUM_THREADS': '18', 'HOSTNAME': 'aws', 'AWS_CONTAINER_CREDENTIALS_RELATIVE_URI': '/v2/credentials/32e22a22-62bd-43d0-832f-ee409dae4b19', 'DMLC_ROLE': 'server', 'PWD': '/', 'DMLC_NUM_SERVER': '1'}\u001b[0m\n",
      "\u001b[31m[03/06/2018 07:35:42 INFO 140207491557184] Environment: {'PROTOCOL_BUFFERS_PYTHON_IMPLEMENTATION_VERSION': '2', 'DMLC_PS_ROOT_PORT': '9000', 'DMLC_NUM_WORKER': '2', 'SAGEMAKER_HTTP_PORT': '8080', 'HOME': '/root', 'PYTHONUNBUFFERED': 'TRUE', 'CANONICAL_ENVROOT': '/opt/amazon', 'LD_LIBRARY_PATH': '/usr/local/nvidia/lib64::/opt/amazon/lib', 'MXNET_KVSTORE_BIGARRAY_BOUND': '400000000', 'LANG': 'en_US.utf8', 'DMLC_INTERFACE': 'ethwe', 'SHLVL': '1', 'DMLC_PS_ROOT_URI': '10.32.0.4', 'AWS_REGION': 'us-east-1', 'NVIDIA_VISIBLE_DEVICES': 'all', 'PATH': '/opt/amazon/bin:/usr/local/nvidia/bin:/usr/local/sbin:/usr/local/bin:/usr/sbin:/usr/bin:/sbin:/bin:/opt/amazon/bin:/opt/amazon/bin', 'PROTOCOL_BUFFERS_PYTHON_IMPLEMENTATION': 'cpp', 'ENVROOT': '/opt/amazon', 'SAGEMAKER_DATA_PATH': '/opt/ml', 'NVIDIA_DRIVER_CAPABILITIES': 'compute,utility', 'NVIDIA_REQUIRE_CUDA': 'cuda>=9.0', 'OMP_NUM_THREADS': '18', 'HOSTNAME': 'aws', 'AWS_CONTAINER_CREDENTIALS_RELATIVE_URI': '/v2/credentials/32e22a22-62bd-43d0-832f-ee409dae4b19', 'DMLC_ROLE': 'worker', 'PWD': '/', 'DMLC_NUM_SERVER': '1'}\u001b[0m\n",
      "\u001b[31m[03/06/2018 07:35:42 INFO 140207491557184] Using default worker.\u001b[0m\n",
      "\u001b[31m[03/06/2018 07:35:42 INFO 140207491557184] Loaded iterator creator application/x-recordio-protobuf for content type ('application/x-recordio-protobuf', '1.0')\u001b[0m\n",
      "\u001b[31m[03/06/2018 07:35:42 INFO 140207491557184] Create Store: dist_async\u001b[0m\n",
      "\u001b[31m[03/06/2018 07:35:43 INFO 140207491557184] nvidia-smi took: 0.0251829624176 secs to identify 0 gpus\u001b[0m\n",
      "\u001b[31m[03/06/2018 07:35:43 INFO 140207491557184] Number of GPUs being used: 0\u001b[0m\n",
      "\u001b[31m[03/06/2018 07:35:43 INFO 140207491557184] Setting up with params: {u'k': u'10', u'_num_gpus': u'auto', u'local_lloyd_num_trials': u'auto', u'_log_level': u'info', u'_kvstore': u'auto', u'local_lloyd_init_method': u'kmeans++', u'force_dense': u'True', u'epochs': u'1', u'init_method': u'random', u'feature_dim': u'784', u'local_lloyd_tol': u'0.0001', u'local_lloyd_max_iter': u'300', u'_disable_wait_to_read': u'false', u'extra_center_factor': u'auto', u'eval_metrics': u'[\"msd\"]', u'_num_kv_servers': u'1', u'mini_batch_size': u'500', u'half_life_time_size': u'0', u'_num_slices': u'1'}\u001b[0m\n",
      "\u001b[31m/opt/amazon/lib/python2.7/site-packages/ai_algorithms_sdk/config/config_helper.py:170: DeprecationWarning: deprecated\n",
      "  warnings.warn(\"deprecated\", DeprecationWarning)\u001b[0m\n",
      "\u001b[31m/opt/amazon/lib/python2.7/site-packages/ai_algorithms_sdk/config/config_helper.py:120: DeprecationWarning: deprecated\n",
      "  warnings.warn(\"deprecated\", DeprecationWarning)\u001b[0m\n",
      "\u001b[31m[03/06/2018 07:35:43 INFO 140207491557184] Number of GPUs being used: 0\u001b[0m\n",
      "\u001b[31m[03/06/2018 07:35:43 INFO 140207491557184] number of center slices 1\u001b[0m\n",
      "\u001b[31m#metrics {\"Metrics\": {\"Max Batches Seen Between Resets\": {\"count\": 1, \"max\": 1, \"sum\": 1.0, \"min\": 1}, \"Number of Batches Since Last Reset\": {\"count\": 1, \"max\": 1, \"sum\": 1.0, \"min\": 1}, \"Number of Records Since Last Reset\": {\"count\": 1, \"max\": 500, \"sum\": 500.0, \"min\": 500}, \"Total Batches Seen\": {\"count\": 1, \"max\": 1, \"sum\": 1.0, \"min\": 1}, \"Total Records Seen\": {\"count\": 1, \"max\": 500, \"sum\": 500.0, \"min\": 500}, \"Max Records Seen Between Resets\": {\"count\": 1, \"max\": 500, \"sum\": 500.0, \"min\": 500}, \"Reset Count\": {\"count\": 1, \"max\": 0, \"sum\": 0.0, \"min\": 0}}, \"EndTime\": 1520321743.619504, \"Dimensions\": {\"Host\": \"algo-1\", \"Meta\": \"init_train_data_iter\", \"Operation\": \"training\", \"Algorithm\": \"AWS/KMeansWebscale\"}, \"StartTime\": 1520321743.619468}\n",
      "\u001b[0m\n",
      "\u001b[31m[03/06/2018 07:35:43 INFO 140207491557184] Iter 10: Short term msd 31.408997. Long term msd 33.136170\u001b[0m\n",
      "\u001b[31m[03/06/2018 07:35:43 INFO 140207491557184] Iter 20: Short term msd 29.759288. Long term msd 30.426806\u001b[0m\n",
      "\u001b[31m[03/06/2018 07:35:44 INFO 140207491557184] Iter 30: Short term msd 29.620488. Long term msd 29.828785\u001b[0m\n",
      "\u001b[31m[03/06/2018 07:35:44 INFO 140207491557184] Iter 40: Short term msd 28.976230. Long term msd 29.219658\u001b[0m\n",
      "\u001b[31m[03/06/2018 07:35:44 INFO 140207491557184] processed a total of 25000 examples\u001b[0m\n",
      "\u001b[31m#metrics {\"Metrics\": {\"Max Batches Seen Between Resets\": {\"count\": 1, \"max\": 50, \"sum\": 50.0, \"min\": 50}, \"Number of Batches Since Last Reset\": {\"count\": 1, \"max\": 50, \"sum\": 50.0, \"min\": 50}, \"Number of Records Since Last Reset\": {\"count\": 1, \"max\": 25000, \"sum\": 25000.0, \"min\": 25000}, \"Total Batches Seen\": {\"count\": 1, \"max\": 51, \"sum\": 51.0, \"min\": 51}, \"Total Records Seen\": {\"count\": 1, \"max\": 25500, \"sum\": 25500.0, \"min\": 25500}, \"Max Records Seen Between Resets\": {\"count\": 1, \"max\": 25000, \"sum\": 25000.0, \"min\": 25000}, \"Reset Count\": {\"count\": 1, \"max\": 1, \"sum\": 1.0, \"min\": 1}}, \"EndTime\": 1520321744.458747, \"Dimensions\": {\"Host\": \"algo-1\", \"Meta\": \"training_data_iter\", \"Operation\": \"training\", \"Algorithm\": \"AWS/KMeansWebscale\", \"epoch\": 0}, \"StartTime\": 1520321744.4587}\n",
      "\u001b[0m\n",
      "\u001b[31m[03/06/2018 07:35:44 INFO 140207491557184] shrinking 100 centers into 10\u001b[0m\n",
      "\u001b[31m[03/06/2018 07:35:44 INFO 140207491557184] local kmeans attempt #0. Current mean square distance 11.886570\u001b[0m\n",
      "\u001b[31m[03/06/2018 07:35:44 INFO 140207491557184] local kmeans attempt #1. Current mean square distance 11.771215\u001b[0m\n",
      "\u001b[31m[03/06/2018 07:35:44 INFO 140207491557184] local kmeans attempt #2. Current mean square distance 12.662122\u001b[0m\n",
      "\u001b[31m[03/06/2018 07:35:44 INFO 140207491557184] local kmeans attempt #3. Current mean square distance 11.722405\u001b[0m\n",
      "\u001b[31m[03/06/2018 07:35:44 INFO 140207491557184] local kmeans attempt #4. Current mean square distance 12.265818\u001b[0m\n",
      "\u001b[31m[03/06/2018 07:35:44 INFO 140207491557184] local kmeans attempt #5. Current mean square distance 12.232418\u001b[0m\n",
      "\u001b[31m[03/06/2018 07:35:44 INFO 140207491557184] local kmeans attempt #6. Current mean square distance 11.777180\u001b[0m\n",
      "\u001b[31m[03/06/2018 07:35:44 INFO 140207491557184] local kmeans attempt #7. Current mean square distance 11.405084\u001b[0m\n",
      "\u001b[31m[03/06/2018 07:35:44 INFO 140207491557184] local kmeans attempt #8. Current mean square distance 11.488136\u001b[0m\n",
      "\u001b[32m[03/06/2018 07:35:44 INFO 140018794239808] Iter 30: Short term msd 29.384329. Long term msd 29.648380\u001b[0m\n",
      "\u001b[32m[03/06/2018 07:35:44 INFO 140018794239808] Iter 40: Short term msd 28.776569. Long term msd 29.026393\u001b[0m\n",
      "\u001b[32m[03/06/2018 07:35:44 INFO 140018794239808] processed a total of 25000 examples\u001b[0m\n",
      "\u001b[32m#metrics {\"Metrics\": {\"Max Batches Seen Between Resets\": {\"count\": 1, \"max\": 50, \"sum\": 50.0, \"min\": 50}, \"Number of Batches Since Last Reset\": {\"count\": 1, \"max\": 50, \"sum\": 50.0, \"min\": 50}, \"Number of Records Since Last Reset\": {\"count\": 1, \"max\": 25000, \"sum\": 25000.0, \"min\": 25000}, \"Total Batches Seen\": {\"count\": 1, \"max\": 51, \"sum\": 51.0, \"min\": 51}, \"Total Records Seen\": {\"count\": 1, \"max\": 25500, \"sum\": 25500.0, \"min\": 25500}, \"Max Records Seen Between Resets\": {\"count\": 1, \"max\": 25000, \"sum\": 25000.0, \"min\": 25000}, \"Reset Count\": {\"count\": 1, \"max\": 1, \"sum\": 1.0, \"min\": 1}}, \"EndTime\": 1520321744.444858, \"Dimensions\": {\"Host\": \"algo-2\", \"Meta\": \"training_data_iter\", \"Operation\": \"training\", \"Algorithm\": \"AWS/KMeansWebscale\", \"epoch\": 0}, \"StartTime\": 1520321744.444811}\n",
      "\u001b[0m\n",
      "\u001b[32m[03/06/2018 07:35:44 INFO 140018794239808] shrinking 100 centers into 10\u001b[0m\n",
      "\u001b[32m[03/06/2018 07:35:44 INFO 140018794239808] local kmeans attempt #0. Current mean square distance 12.200540\u001b[0m\n",
      "\u001b[32m[03/06/2018 07:35:44 INFO 140018794239808] local kmeans attempt #1. Current mean square distance 11.605629\u001b[0m\n",
      "\u001b[32m[03/06/2018 07:35:44 INFO 140018794239808] local kmeans attempt #2. Current mean square distance 11.786397\u001b[0m\n",
      "\u001b[32m[03/06/2018 07:35:44 INFO 140018794239808] local kmeans attempt #3. Current mean square distance 11.531399\u001b[0m\n",
      "\u001b[32m[03/06/2018 07:35:44 INFO 140018794239808] local kmeans attempt #4. Current mean square distance 11.812172\u001b[0m\n",
      "\u001b[32m[03/06/2018 07:35:44 INFO 140018794239808] local kmeans attempt #5. Current mean square distance 11.328600\u001b[0m\n",
      "\u001b[32m[03/06/2018 07:35:44 INFO 140018794239808] local kmeans attempt #6. Current mean square distance 11.745069\u001b[0m\n",
      "\u001b[32m[03/06/2018 07:35:44 INFO 140018794239808] local kmeans attempt #7. Current mean square distance 12.462833\u001b[0m\n",
      "\u001b[32m[03/06/2018 07:35:44 INFO 140018794239808] local kmeans attempt #8. Current mean square distance 12.081512\u001b[0m\n",
      "\u001b[32m[03/06/2018 07:35:44 INFO 140018794239808] local kmeans attempt #9. Current mean square distance 11.594670\u001b[0m\n",
      "\u001b[32m[03/06/2018 07:35:44 INFO 140018794239808] finished shrinking process. Mean Square Distance = 11\u001b[0m\n",
      "\u001b[32m[03/06/2018 07:35:44 INFO 140018794239808] compute all data-center distances: point norm took: 33.6616%, (0.277581 secs)\u001b[0m\n",
      "\u001b[32m[03/06/2018 07:35:44 INFO 140018794239808] batch data loading with context took: 24.0308%, (0.198164 secs)\u001b[0m\n",
      "\u001b[32m[03/06/2018 07:35:44 INFO 140018794239808] collect from kv store took: 11.6426%, (0.096008 secs)\u001b[0m\n",
      "\u001b[32m[03/06/2018 07:35:44 INFO 140018794239808] predict compute msd took: 7.7934%, (0.064266 secs)\u001b[0m\n",
      "\u001b[32m[03/06/2018 07:35:44 INFO 140018794239808] compute all data-center distances: center norm took: 7.1448%, (0.058918 secs)\u001b[0m\n",
      "\u001b[32m[03/06/2018 07:35:44 INFO 140018794239808] gradient: cluster size  took: 4.5341%, (0.037389 secs)\u001b[0m\n",
      "\u001b[32m[03/06/2018 07:35:44 INFO 140018794239808] gradient: cluster center took: 4.1037%, (0.033840 secs)\u001b[0m\n",
      "\u001b[32m[03/06/2018 07:35:44 INFO 140018794239808] compute all data-center distances: inner product took: 3.6109%, (0.029776 secs)\u001b[0m\n",
      "\u001b[32m[03/06/2018 07:35:44 INFO 140018794239808] update state and report convergance took: 1.3587%, (0.011204 secs)\u001b[0m\n",
      "\u001b[32m[03/06/2018 07:35:44 INFO 140018794239808] splitting centers key-value pair took: 1.1437%, (0.009432 secs)\u001b[0m\n",
      "\u001b[32m[03/06/2018 07:35:44 INFO 140018794239808] gradient: one_hot took: 0.8020%, (0.006613 secs)\u001b[0m\n",
      "\u001b[32m[03/06/2018 07:35:44 INFO 140018794239808] predict minus dist took: 0.1401%, (0.001156 secs)\u001b[0m\n",
      "\u001b[32m[03/06/2018 07:35:44 INFO 140018794239808] update set-up time took: 0.0335%, (0.000276 secs)\u001b[0m\n",
      "\u001b[32m[03/06/2018 07:35:44 INFO 140018794239808] TOTAL took: 0.824622631073\u001b[0m\n",
      "\u001b[32m[03/06/2018 07:35:44 INFO 140018794239808] Number of GPUs being used: 0\u001b[0m\n",
      "\u001b[32m[03/06/2018 07:35:44 INFO 140018794239808] No model is serialized on a non-master node\u001b[0m\n",
      "\u001b[32m#metrics {\"Metrics\": {\"finalize.time\": {\"count\": 1, \"max\": 346.1480140686035, \"sum\": 346.1480140686035, \"min\": 346.1480140686035}, \"initialize.time\": {\"count\": 1, \"max\": 16.79706573486328, \"sum\": 16.79706573486328, \"min\": 16.79706573486328}, \"model.serialize.time\": {\"count\": 1, \"max\": 0.225067138671875, \"sum\": 0.225067138671875, \"min\": 0.225067138671875}, \"update.time\": {\"count\": 1, \"max\": 828.1159400939941, \"sum\": 828.1159400939941, \"min\": 828.1159400939941}, \"epochs\": {\"count\": 1, \"max\": 1, \"sum\": 1.0, \"min\": 1}, \"state.serialize.time\": {\"count\": 1, \"max\": 0.4780292510986328, \"sum\": 0.4780292510986328, \"min\": 0.4780292510986328}, \"_shrink.time\": {\"count\": 1, \"max\": 343.08695793151855, \"sum\": 343.08695793151855, \"min\": 343.08695793151855}}, \"EndTime\": 1520321744.802947, \"Dimensions\": {\"Host\": \"algo-2\", \"Operation\": \"training\", \"Algorithm\": \"AWS/KMeansWebscale\"}, \"StartTime\": 1520321743.585969}\n",
      "\u001b[0m\n",
      "\u001b[32m[03/06/2018 07:35:44 INFO 140018794239808] Test data was not provided.\u001b[0m\n",
      "\u001b[32m#metrics {\"Metrics\": {\"totaltime\": {\"count\": 1, \"max\": 2855.6761741638184, \"sum\": 2855.6761741638184, \"min\": 2855.6761741638184}, \"setuptime\": {\"count\": 1, \"max\": 519.3791389465332, \"sum\": 519.3791389465332, \"min\": 519.3791389465332}}, \"EndTime\": 1520321744.805864, \"Dimensions\": {\"Host\": \"algo-2\", \"Operation\": \"training\", \"Algorithm\": \"AWS/KMeansWebscale\"}, \"StartTime\": 1520321744.803043}\n",
      "\u001b[0m\n",
      "\u001b[31m[03/06/2018 07:35:44 INFO 140207491557184] local kmeans attempt #9. Current mean square distance 11.659527\u001b[0m\n",
      "\u001b[31m[03/06/2018 07:35:44 INFO 140207491557184] finished shrinking process. Mean Square Distance = 11\u001b[0m\n",
      "\u001b[31m[03/06/2018 07:35:44 INFO 140207491557184] compute all data-center distances: point norm took: 36.3603%, (0.303642 secs)\u001b[0m\n",
      "\u001b[31m[03/06/2018 07:35:44 INFO 140207491557184] batch data loading with context took: 25.3436%, (0.211642 secs)\u001b[0m\n",
      "\u001b[31m[03/06/2018 07:35:44 INFO 140207491557184] predict compute msd took: 8.1787%, (0.068300 secs)\u001b[0m\n",
      "\u001b[31m[03/06/2018 07:35:44 INFO 140207491557184] compute all data-center distances: center norm took: 7.6169%, (0.063608 secs)\u001b[0m\n",
      "\u001b[31m[03/06/2018 07:35:44 INFO 140207491557184] collect from kv store took: 6.3109%, (0.052701 secs)\u001b[0m\n",
      "\u001b[31m[03/06/2018 07:35:44 INFO 140207491557184] gradient: cluster size  took: 4.7441%, (0.039617 secs)\u001b[0m\n",
      "\u001b[31m[03/06/2018 07:35:44 INFO 140207491557184] gradient: cluster center took: 4.0403%, (0.033740 secs)\u001b[0m\n",
      "\u001b[31m[03/06/2018 07:35:44 INFO 140207491557184] compute all data-center distances: inner product took: 3.6880%, (0.030798 secs)\u001b[0m\n",
      "\u001b[31m[03/06/2018 07:35:44 INFO 140207491557184] update state and report convergance took: 1.4212%, (0.011868 secs)\u001b[0m\n",
      "\u001b[31m[03/06/2018 07:35:44 INFO 140207491557184] splitting centers key-value pair took: 1.2617%, (0.010536 secs)\u001b[0m\n",
      "\u001b[31m[03/06/2018 07:35:44 INFO 140207491557184] gradient: one_hot took: 0.8596%, (0.007178 secs)\u001b[0m\n",
      "\u001b[31m[03/06/2018 07:35:44 INFO 140207491557184] predict minus dist took: 0.1443%, (0.001205 secs)\u001b[0m\n",
      "\u001b[31m[03/06/2018 07:35:44 INFO 140207491557184] update set-up time took: 0.0304%, (0.000254 secs)\u001b[0m\n",
      "\u001b[31m[03/06/2018 07:35:44 INFO 140207491557184] TOTAL took: 0.835091352463\u001b[0m\n",
      "\u001b[31m[03/06/2018 07:35:44 INFO 140207491557184] Number of GPUs being used: 0\u001b[0m\n",
      "\u001b[31m#metrics {\"Metrics\": {\"finalize.time\": {\"count\": 1, \"max\": 348.6769199371338, \"sum\": 348.6769199371338, \"min\": 348.6769199371338}, \"initialize.time\": {\"count\": 1, \"max\": 17.38905906677246, \"sum\": 17.38905906677246, \"min\": 17.38905906677246}, \"model.serialize.time\": {\"count\": 1, \"max\": 0.3209114074707031, \"sum\": 0.3209114074707031, \"min\": 0.3209114074707031}, \"update.time\": {\"count\": 1, \"max\": 838.9248847961426, \"sum\": 838.9248847961426, \"min\": 838.9248847961426}, \"epochs\": {\"count\": 1, \"max\": 1, \"sum\": 1.0, \"min\": 1}, \"state.serialize.time\": {\"count\": 1, \"max\": 0.4971027374267578, \"sum\": 0.4971027374267578, \"min\": 0.4971027374267578}, \"_shrink.time\": {\"count\": 1, \"max\": 346.69995307922363, \"sum\": 346.69995307922363, \"min\": 346.69995307922363}}, \"EndTime\": 1520321744.808735, \"Dimensions\": {\"Host\": \"algo-1\", \"Operation\": \"training\", \"Algorithm\": \"AWS/KMeansWebscale\"}, \"StartTime\": 1520321743.588579}\n",
      "\u001b[0m\n",
      "\u001b[31m[03/06/2018 07:35:44 INFO 140207491557184] Test data was not provided.\u001b[0m\n",
      "\u001b[31m#metrics {\"Metrics\": {\"totaltime\": {\"count\": 1, \"max\": 2412.498950958252, \"sum\": 2412.498950958252, \"min\": 2412.498950958252}, \"setuptime\": {\"count\": 1, \"max\": 26.422977447509766, \"sum\": 26.422977447509766, \"min\": 26.422977447509766}}, \"EndTime\": 1520321744.811165, \"Dimensions\": {\"Host\": \"algo-1\", \"Operation\": \"training\", \"Algorithm\": \"AWS/KMeansWebscale\"}, \"StartTime\": 1520321744.808842}\n",
      "\u001b[0m\n"
     ]
    },
    {
     "name": "stdout",
     "output_type": "stream",
     "text": [
      "===== Job Complete =====\n",
      "CPU times: user 8.02 s, sys: 400 ms, total: 8.42 s\n",
      "Wall time: 7min 49s\n"
     ]
    }
   ],
   "source": [
    "%%time\n",
    "\n",
    "kmeans.fit(kmeans.record_set(train_set[0]))"
   ]
  },
  {
   "cell_type": "markdown",
   "metadata": {},
   "source": [
    "## Set up hosting for the model\n",
    "Now, we can deploy the model we just trained behind a real-time hosted endpoint.  This next step can take, on average, 7 to 11 minutes to complete."
   ]
  },
  {
   "cell_type": "code",
   "execution_count": 6,
   "metadata": {},
   "outputs": [
    {
     "name": "stderr",
     "output_type": "stream",
     "text": [
      "INFO:sagemaker:Creating model with name: kmeans-2018-03-06-07-37-39-988\n",
      "INFO:sagemaker:Creating endpoint with name kmeans-2018-03-06-07-30-00-575\n"
     ]
    },
    {
     "name": "stdout",
     "output_type": "stream",
     "text": [
      "----------------------------------------------------------------------------------------------------------------!CPU times: user 492 ms, sys: 32 ms, total: 524 ms\n",
      "Wall time: 9min 33s\n"
     ]
    }
   ],
   "source": [
    "%%time\n",
    "\n",
    "kmeans_predictor = kmeans.deploy(initial_instance_count=1,\n",
    "                                 instance_type='ml.m4.xlarge')"
   ]
  },
  {
   "cell_type": "markdown",
   "metadata": {},
   "source": [
    "## Validate the model for use\n",
    "Finally, we'll validate the model for use. Let's generate a classification for a single observation from the trained model using the endpoint we just created."
   ]
  },
  {
   "cell_type": "code",
   "execution_count": 7,
   "metadata": {},
   "outputs": [
    {
     "name": "stdout",
     "output_type": "stream",
     "text": [
      "[label {\n",
      "  key: \"closest_cluster\"\n",
      "  value {\n",
      "    float32_tensor {\n",
      "      values: 0.0\n",
      "    }\n",
      "  }\n",
      "}\n",
      "label {\n",
      "  key: \"distance_to_cluster\"\n",
      "  value {\n",
      "    float32_tensor {\n",
      "      values: 7.234860420227051\n",
      "    }\n",
      "  }\n",
      "}\n",
      "]\n"
     ]
    }
   ],
   "source": [
    "result = kmeans_predictor.predict(train_set[0][30:31])\n",
    "print(result)"
   ]
  },
  {
   "cell_type": "markdown",
   "metadata": {},
   "source": [
    "OK, a single prediction works.\n",
    "\n",
    "Let's do a whole batch and see how well the clustering works."
   ]
  },
  {
   "cell_type": "code",
   "execution_count": 8,
   "metadata": {},
   "outputs": [
    {
     "name": "stdout",
     "output_type": "stream",
     "text": [
      "CPU times: user 72 ms, sys: 0 ns, total: 72 ms\n",
      "Wall time: 335 ms\n"
     ]
    }
   ],
   "source": [
    "%%time \n",
    "\n",
    "result = kmeans_predictor.predict(valid_set[0][0:100])\n",
    "clusters = [r.label['closest_cluster'].float32_tensor.values[0] for r in result]"
   ]
  },
  {
   "cell_type": "code",
   "execution_count": 9,
   "metadata": {},
   "outputs": [
    {
     "name": "stdout",
     "output_type": "stream",
     "text": [
      "\n",
      "\n",
      "\n",
      "Cluster 0:\n"
     ]
    },
    {
     "data": {
      "image/png": "[encoded data removed]",
      "text/plain": [
       "<matplotlib.figure.Figure at 0x7f67591bd0f0>"
      ]
     },
     "metadata": {},
     "output_type": "display_data"
    },
    {
     "name": "stdout",
     "output_type": "stream",
     "text": [
      "\n",
      "\n",
      "\n",
      "Cluster 1:\n"
     ]
    },
    {
     "data": {
      "image/png": "[encoded data removed]",
      "text/plain": [
       "<matplotlib.figure.Figure at 0x7f675905e8d0>"
      ]
     },
     "metadata": {},
     "output_type": "display_data"
    },
    {
     "name": "stdout",
     "output_type": "stream",
     "text": [
      "\n",
      "\n",
      "\n",
      "Cluster 2:\n"
     ]
    },
    {
     "data": {
      "image/png": "[encoded data removed]",
      "text/plain": [
       "<matplotlib.figure.Figure at 0x7f6758e9b2b0>"
      ]
     },
     "metadata": {},
     "output_type": "display_data"
    },
    {
     "name": "stdout",
     "output_type": "stream",
     "text": [
      "\n",
      "\n",
      "\n",
      "Cluster 3:\n"
     ]
    },
    {
     "data": {
      "image/png": "[encoded data removed]",
      "text/plain": [
       "<matplotlib.figure.Figure at 0x7f6758cce4e0>"
      ]
     },
     "metadata": {},
     "output_type": "display_data"
    },
    {
     "name": "stdout",
     "output_type": "stream",
     "text": [
      "\n",
      "\n",
      "\n",
      "Cluster 4:\n"
     ]
    },
    {
     "data": {
      "image/png": "[encoded data removed]",
      "text/plain": [
       "<matplotlib.figure.Figure at 0x7f6758f8b0f0>"
      ]
     },
     "metadata": {},
     "output_type": "display_data"
    },
    {
     "name": "stdout",
     "output_type": "stream",
     "text": [
      "\n",
      "\n",
      "\n",
      "Cluster 5:\n"
     ]
    },
    {
     "data": {
      "image/png": "[encoded data removed]",
      "text/plain": [
       "<matplotlib.figure.Figure at 0x7f67588dac88>"
      ]
     },
     "metadata": {},
     "output_type": "display_data"
    },
    {
     "name": "stdout",
     "output_type": "stream",
     "text": [
      "\n",
      "\n",
      "\n",
      "Cluster 6:\n"
     ]
    },
    {
     "data": {
      "image/png": "[encoded data removed]",
      "text/plain": [
       "<matplotlib.figure.Figure at 0x7f6758fd6710>"
      ]
     },
     "metadata": {},
     "output_type": "display_data"
    },
    {
     "name": "stdout",
     "output_type": "stream",
     "text": [
      "\n",
      "\n",
      "\n",
      "Cluster 7:\n"
     ]
    },
    {
     "data": {
      "image/png": "[encoded data removed]",
      "text/plain": [
       "<matplotlib.figure.Figure at 0x7f6758cbe6a0>"
      ]
     },
     "metadata": {},
     "output_type": "display_data"
    },
    {
     "name": "stdout",
     "output_type": "stream",
     "text": [
      "\n",
      "\n",
      "\n",
      "Cluster 8:\n"
     ]
    },
    {
     "data": {
      "image/png": "[encoded data removed]",
      "text/plain": [
       "<matplotlib.figure.Figure at 0x7f6758527cc0>"
      ]
     },
     "metadata": {},
     "output_type": "display_data"
    },
    {
     "name": "stdout",
     "output_type": "stream",
     "text": [
      "\n",
      "\n",
      "\n",
      "Cluster 9:\n"
     ]
    },
    {
     "data": {
      "image/png": "[encoded data removed]",
      "text/plain": [
       "<matplotlib.figure.Figure at 0x7f6758400fd0>"
      ]
     },
     "metadata": {},
     "output_type": "display_data"
    }
   ],
   "source": [
    "for cluster in range(10):\n",
    "    print('\\n\\n\\nCluster {}:'.format(int(cluster)))\n",
    "    digits = [ img for l, img in zip(clusters, valid_set[0]) if int(l) == cluster ]\n",
    "    height=((len(digits)-1)//5)+1\n",
    "    width=5\n",
    "    plt.rcParams[\"figure.figsize\"] = (width,height)\n",
    "    _, subplots = plt.subplots(height, width)\n",
    "    subplots=numpy.ndarray.flatten(subplots)\n",
    "    for subplot, image in zip(subplots, digits):\n",
    "        show_digit(image, subplot=subplot)\n",
    "    for subplot in subplots[len(digits):]:\n",
    "        subplot.axis('off')\n",
    "\n",
    "    plt.show()"
   ]
  },
  {
   "cell_type": "markdown",
   "metadata": {},
   "source": [
    "### The bottom line\n",
    "\n",
    "K-Means clustering is not the best algorithm for image analysis problems, but we do see pretty reasonable clusters being built."
   ]
  },
  {
   "cell_type": "markdown",
   "metadata": {},
   "source": [
    "### (Optional) Delete the Endpoint\n",
    "If you're ready to be done with this notebook, make sure run the cell below.  This will remove the hosted endpoint you created and avoid any charges from a stray instance being left on."
   ]
  },
  {
   "cell_type": "code",
   "execution_count": 10,
   "metadata": {},
   "outputs": [
    {
     "name": "stdout",
     "output_type": "stream",
     "text": [
      "kmeans-2018-03-06-07-30-00-575\n"
     ]
    }
   ],
   "source": [
    "print(kmeans_predictor.endpoint)"
   ]
  },
  {
   "cell_type": "code",
   "execution_count": 11,
   "metadata": {},
   "outputs": [
    {
     "name": "stderr",
     "output_type": "stream",
     "text": [
      "INFO:sagemaker:Deleting endpoint with name: kmeans-2018-03-06-07-30-00-575\n"
     ]
    }
   ],
   "source": [
    "import sagemaker\n",
    "sagemaker.Session().delete_endpoint(kmeans_predictor.endpoint)"
   ]
  }
 ],
 "metadata": {
  "kernelspec": {
   "display_name": "conda_python3",
   "language": "python",
   "name": "conda_python3"
  },
  "language_info": {
   "codemirror_mode": {
    "name": "ipython",
    "version": 3
   },
   "file_extension": ".py",
   "mimetype": "text/x-python",
   "name": "python",
   "nbconvert_exporter": "python",
   "pygments_lexer": "ipython3",
   "version": "3.6.2"
  },
  "notice": "Copyright 2017 Amazon.com, Inc. or its affiliates. All Rights Reserved.  Licensed under the Apache License, Version 2.0 (the \"License\"). You may not use this file except in compliance with the License. A copy of the License is located at http://aws.amazon.com/apache2.0/ or in the \"license\" file accompanying this file. This file is distributed on an \"AS IS\" BASIS, WITHOUT WARRANTIES OR CONDITIONS OF ANY KIND, either express or implied. See the License for the specific language governing permissions and limitations under the License.",
  "toc": {
   "nav_menu": {},
   "number_sections": true,
   "sideBar": true,
   "skip_h1_title": false,
   "title_cell": "Table of Contents",
   "title_sidebar": "Contents",
   "toc_cell": false,
   "toc_position": {},
   "toc_section_display": true,
   "toc_window_display": false
  }
 },
 "nbformat": 4,
 "nbformat_minor": 2
}
